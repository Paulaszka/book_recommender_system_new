{
 "cells": [
  {
   "cell_type": "markdown",
   "id": "32c59d85",
   "metadata": {},
   "source": [
    "# Board games recommender system"
   ]
  },
  {
   "cell_type": "markdown",
   "id": "2a2fad69",
   "metadata": {},
   "source": [
    "### Imports and data loading"
   ]
  },
  {
   "cell_type": "code",
   "execution_count": 45,
   "id": "6bb27c10",
   "metadata": {},
   "outputs": [],
   "source": [
    "import numpy as np\n",
    "import pandas as pd\n",
    "import pandas as pd\n",
    "import seaborn as sns\n",
    "import matplotlib.pyplot as plt\n",
    "import kagglehub\n",
    "import os"
   ]
  },
  {
   "cell_type": "code",
   "execution_count": 46,
   "id": "73190673",
   "metadata": {},
   "outputs": [
    {
     "name": "stdout",
     "output_type": "stream",
     "text": [
      "Path to dataset files: C:\\Users\\pauli\\.cache\\kagglehub\\datasets\\mshepherd\\board-games\\versions\\13\n"
     ]
    }
   ],
   "source": [
    "path = kagglehub.dataset_download(\"mshepherd/board-games\")\n",
    "print(\"Path to dataset files:\", path)"
   ]
  },
  {
   "cell_type": "code",
   "execution_count": 47,
   "id": "c7e2e170",
   "metadata": {},
   "outputs": [
    {
     "data": {
      "text/html": [
       "<div>\n",
       "<style scoped>\n",
       "    .dataframe tbody tr th:only-of-type {\n",
       "        vertical-align: middle;\n",
       "    }\n",
       "\n",
       "    .dataframe tbody tr th {\n",
       "        vertical-align: top;\n",
       "    }\n",
       "\n",
       "    .dataframe thead th {\n",
       "        text-align: right;\n",
       "    }\n",
       "</style>\n",
       "<table border=\"1\" class=\"dataframe\">\n",
       "  <thead>\n",
       "    <tr style=\"text-align: right;\">\n",
       "      <th></th>\n",
       "      <th>bgg_id</th>\n",
       "      <th>name</th>\n",
       "      <th>year</th>\n",
       "      <th>game_type</th>\n",
       "      <th>designer</th>\n",
       "      <th>artist</th>\n",
       "      <th>publisher</th>\n",
       "      <th>min_players</th>\n",
       "      <th>max_players</th>\n",
       "      <th>min_players_rec</th>\n",
       "      <th>...</th>\n",
       "      <th>stddev_rating</th>\n",
       "      <th>bayes_rating</th>\n",
       "      <th>complexity</th>\n",
       "      <th>language_dependency</th>\n",
       "      <th>bga_id</th>\n",
       "      <th>dbpedia_id</th>\n",
       "      <th>luding_id</th>\n",
       "      <th>spielen_id</th>\n",
       "      <th>wikidata_id</th>\n",
       "      <th>wikipedia_id</th>\n",
       "    </tr>\n",
       "  </thead>\n",
       "  <tbody>\n",
       "    <tr>\n",
       "      <th>0</th>\n",
       "      <td>1</td>\n",
       "      <td>Die Macher</td>\n",
       "      <td>1986.0</td>\n",
       "      <td>5497</td>\n",
       "      <td>1</td>\n",
       "      <td>12517,4959</td>\n",
       "      <td>133,2,24883,2726,15108,39249,11652,5382,8147</td>\n",
       "      <td>3.0</td>\n",
       "      <td>5.0</td>\n",
       "      <td>4.0</td>\n",
       "      <td>...</td>\n",
       "      <td>1.57510</td>\n",
       "      <td>7.06367</td>\n",
       "      <td>4.3144</td>\n",
       "      <td>1.166667</td>\n",
       "      <td>NaN</td>\n",
       "      <td>NaN</td>\n",
       "      <td>NaN</td>\n",
       "      <td>NaN</td>\n",
       "      <td>NaN</td>\n",
       "      <td>NaN</td>\n",
       "    </tr>\n",
       "    <tr>\n",
       "      <th>1</th>\n",
       "      <td>2</td>\n",
       "      <td>Dragonmaster</td>\n",
       "      <td>1981.0</td>\n",
       "      <td>5497</td>\n",
       "      <td>8384</td>\n",
       "      <td>12424</td>\n",
       "      <td>64,20</td>\n",
       "      <td>3.0</td>\n",
       "      <td>4.0</td>\n",
       "      <td>3.0</td>\n",
       "      <td>...</td>\n",
       "      <td>1.46752</td>\n",
       "      <td>5.76599</td>\n",
       "      <td>1.9636</td>\n",
       "      <td>NaN</td>\n",
       "      <td>NaN</td>\n",
       "      <td>NaN</td>\n",
       "      <td>NaN</td>\n",
       "      <td>NaN</td>\n",
       "      <td>NaN</td>\n",
       "      <td>NaN</td>\n",
       "    </tr>\n",
       "    <tr>\n",
       "      <th>2</th>\n",
       "      <td>3</td>\n",
       "      <td>Samurai</td>\n",
       "      <td>1998.0</td>\n",
       "      <td>5497</td>\n",
       "      <td>2</td>\n",
       "      <td>11883</td>\n",
       "      <td>17,133,267,29,7340,7335,41,2973,4617,1391,8291...</td>\n",
       "      <td>2.0</td>\n",
       "      <td>4.0</td>\n",
       "      <td>2.0</td>\n",
       "      <td>...</td>\n",
       "      <td>1.19279</td>\n",
       "      <td>7.22869</td>\n",
       "      <td>2.4784</td>\n",
       "      <td>1.006579</td>\n",
       "      <td>NaN</td>\n",
       "      <td>NaN</td>\n",
       "      <td>NaN</td>\n",
       "      <td>NaN</td>\n",
       "      <td>NaN</td>\n",
       "      <td>NaN</td>\n",
       "    </tr>\n",
       "    <tr>\n",
       "      <th>3</th>\n",
       "      <td>4</td>\n",
       "      <td>Tal der Könige</td>\n",
       "      <td>1992.0</td>\n",
       "      <td>5497</td>\n",
       "      <td>8008</td>\n",
       "      <td>2277</td>\n",
       "      <td>37</td>\n",
       "      <td>2.0</td>\n",
       "      <td>4.0</td>\n",
       "      <td>2.0</td>\n",
       "      <td>...</td>\n",
       "      <td>1.23667</td>\n",
       "      <td>5.66660</td>\n",
       "      <td>2.6667</td>\n",
       "      <td>NaN</td>\n",
       "      <td>NaN</td>\n",
       "      <td>NaN</td>\n",
       "      <td>NaN</td>\n",
       "      <td>NaN</td>\n",
       "      <td>NaN</td>\n",
       "      <td>NaN</td>\n",
       "    </tr>\n",
       "    <tr>\n",
       "      <th>4</th>\n",
       "      <td>5</td>\n",
       "      <td>Acquire</td>\n",
       "      <td>1964.0</td>\n",
       "      <td>5497</td>\n",
       "      <td>4</td>\n",
       "      <td>12658,18317</td>\n",
       "      <td>92,5,4871,3082,858,2962,28072,5392,4668,38,462...</td>\n",
       "      <td>2.0</td>\n",
       "      <td>6.0</td>\n",
       "      <td>3.0</td>\n",
       "      <td>...</td>\n",
       "      <td>1.33603</td>\n",
       "      <td>7.12541</td>\n",
       "      <td>2.4985</td>\n",
       "      <td>1.095890</td>\n",
       "      <td>NaN</td>\n",
       "      <td>NaN</td>\n",
       "      <td>NaN</td>\n",
       "      <td>NaN</td>\n",
       "      <td>NaN</td>\n",
       "      <td>NaN</td>\n",
       "    </tr>\n",
       "  </tbody>\n",
       "</table>\n",
       "<p>5 rows × 38 columns</p>\n",
       "</div>"
      ],
      "text/plain": [
       "   bgg_id            name    year game_type designer       artist  \\\n",
       "0       1      Die Macher  1986.0      5497        1   12517,4959   \n",
       "1       2    Dragonmaster  1981.0      5497     8384        12424   \n",
       "2       3         Samurai  1998.0      5497        2        11883   \n",
       "3       4  Tal der Könige  1992.0      5497     8008         2277   \n",
       "4       5         Acquire  1964.0      5497        4  12658,18317   \n",
       "\n",
       "                                           publisher  min_players  \\\n",
       "0       133,2,24883,2726,15108,39249,11652,5382,8147          3.0   \n",
       "1                                              64,20          3.0   \n",
       "2  17,133,267,29,7340,7335,41,2973,4617,1391,8291...          2.0   \n",
       "3                                                 37          2.0   \n",
       "4  92,5,4871,3082,858,2962,28072,5392,4668,38,462...          2.0   \n",
       "\n",
       "   max_players  min_players_rec  ...  stddev_rating  bayes_rating  complexity  \\\n",
       "0          5.0              4.0  ...        1.57510       7.06367      4.3144   \n",
       "1          4.0              3.0  ...        1.46752       5.76599      1.9636   \n",
       "2          4.0              2.0  ...        1.19279       7.22869      2.4784   \n",
       "3          4.0              2.0  ...        1.23667       5.66660      2.6667   \n",
       "4          6.0              3.0  ...        1.33603       7.12541      2.4985   \n",
       "\n",
       "   language_dependency  bga_id  dbpedia_id  luding_id spielen_id wikidata_id  \\\n",
       "0             1.166667     NaN         NaN        NaN        NaN         NaN   \n",
       "1                  NaN     NaN         NaN        NaN        NaN         NaN   \n",
       "2             1.006579     NaN         NaN        NaN        NaN         NaN   \n",
       "3                  NaN     NaN         NaN        NaN        NaN         NaN   \n",
       "4             1.095890     NaN         NaN        NaN        NaN         NaN   \n",
       "\n",
       "   wikipedia_id  \n",
       "0           NaN  \n",
       "1           NaN  \n",
       "2           NaN  \n",
       "3           NaN  \n",
       "4           NaN  \n",
       "\n",
       "[5 rows x 38 columns]"
      ]
     },
     "execution_count": 47,
     "metadata": {},
     "output_type": "execute_result"
    }
   ],
   "source": [
    "csv_path = os.path.join(path, \"bgg_GameItem.csv\")\n",
    "df = pd.read_csv(csv_path)\n",
    "df.head(5)"
   ]
  },
  {
   "cell_type": "code",
   "execution_count": 48,
   "id": "af332393",
   "metadata": {},
   "outputs": [
    {
     "name": "stdout",
     "output_type": "stream",
     "text": [
      "392146\n"
     ]
    }
   ],
   "source": [
    "print(df['bgg_id'].max())"
   ]
  },
  {
   "cell_type": "code",
   "execution_count": 49,
   "id": "be13021b",
   "metadata": {},
   "outputs": [
    {
     "data": {
      "text/plain": [
       "np.int64(113904)"
      ]
     },
     "execution_count": 49,
     "metadata": {},
     "output_type": "execute_result"
    }
   ],
   "source": [
    "df['bgg_id'].count()"
   ]
  },
  {
   "cell_type": "code",
   "execution_count": 50,
   "id": "da89e025",
   "metadata": {},
   "outputs": [
    {
     "data": {
      "text/plain": [
       "np.int64(0)"
      ]
     },
     "execution_count": 50,
     "metadata": {},
     "output_type": "execute_result"
    }
   ],
   "source": [
    "df['bgg_id'].isna().sum()"
   ]
  },
  {
   "cell_type": "code",
   "execution_count": 51,
   "id": "13abfaaf",
   "metadata": {},
   "outputs": [
    {
     "data": {
      "text/plain": [
       "Index(['bgg_id', 'name', 'year', 'game_type', 'designer', 'artist',\n",
       "       'publisher', 'min_players', 'max_players', 'min_players_rec',\n",
       "       'max_players_rec', 'min_players_best', 'max_players_best', 'min_age',\n",
       "       'min_age_rec', 'min_time', 'max_time', 'category', 'mechanic',\n",
       "       'cooperative', 'compilation', 'compilation_of', 'family',\n",
       "       'implementation', 'integration', 'rank', 'num_votes', 'avg_rating',\n",
       "       'stddev_rating', 'bayes_rating', 'complexity', 'language_dependency',\n",
       "       'bga_id', 'dbpedia_id', 'luding_id', 'spielen_id', 'wikidata_id',\n",
       "       'wikipedia_id'],\n",
       "      dtype='object')"
      ]
     },
     "execution_count": 51,
     "metadata": {},
     "output_type": "execute_result"
    }
   ],
   "source": [
    "df.columns"
   ]
  },
  {
   "cell_type": "markdown",
   "id": "8ef4d379",
   "metadata": {},
   "source": [
    "### BGG Data Columns Description"
   ]
  },
  {
   "cell_type": "code",
   "execution_count": 52,
   "id": "b3865af7",
   "metadata": {},
   "outputs": [
    {
     "data": {
      "text/html": [
       "<div>\n",
       "<style scoped>\n",
       "    .dataframe tbody tr th:only-of-type {\n",
       "        vertical-align: middle;\n",
       "    }\n",
       "\n",
       "    .dataframe tbody tr th {\n",
       "        vertical-align: top;\n",
       "    }\n",
       "\n",
       "    .dataframe thead th {\n",
       "        text-align: right;\n",
       "    }\n",
       "</style>\n",
       "<table border=\"1\" class=\"dataframe\">\n",
       "  <thead>\n",
       "    <tr style=\"text-align: right;\">\n",
       "      <th></th>\n",
       "      <th>bgg_id</th>\n",
       "      <th>name</th>\n",
       "    </tr>\n",
       "  </thead>\n",
       "  <tbody>\n",
       "    <tr>\n",
       "      <th>0</th>\n",
       "      <td>1001</td>\n",
       "      <td>Political</td>\n",
       "    </tr>\n",
       "    <tr>\n",
       "      <th>1</th>\n",
       "      <td>1002</td>\n",
       "      <td>Card Game</td>\n",
       "    </tr>\n",
       "    <tr>\n",
       "      <th>2</th>\n",
       "      <td>1008</td>\n",
       "      <td>Nautical</td>\n",
       "    </tr>\n",
       "    <tr>\n",
       "      <th>3</th>\n",
       "      <td>1009</td>\n",
       "      <td>Abstract Strategy</td>\n",
       "    </tr>\n",
       "    <tr>\n",
       "      <th>4</th>\n",
       "      <td>1010</td>\n",
       "      <td>Fantasy</td>\n",
       "    </tr>\n",
       "  </tbody>\n",
       "</table>\n",
       "</div>"
      ],
      "text/plain": [
       "   bgg_id               name\n",
       "0    1001          Political\n",
       "1    1002          Card Game\n",
       "2    1008           Nautical\n",
       "3    1009  Abstract Strategy\n",
       "4    1010            Fantasy"
      ]
     },
     "execution_count": 52,
     "metadata": {},
     "output_type": "execute_result"
    }
   ],
   "source": [
    "csv_path = os.path.join(path, \"bgg_Category.csv\")\n",
    "df_bgg_Category = pd.read_csv(csv_path)\n",
    "df_bgg_Category.head(5)"
   ]
  },
  {
   "cell_type": "code",
   "execution_count": 53,
   "id": "008a23e6",
   "metadata": {},
   "outputs": [
    {
     "data": {
      "text/html": [
       "<div>\n",
       "<style scoped>\n",
       "    .dataframe tbody tr th:only-of-type {\n",
       "        vertical-align: middle;\n",
       "    }\n",
       "\n",
       "    .dataframe tbody tr th {\n",
       "        vertical-align: top;\n",
       "    }\n",
       "\n",
       "    .dataframe thead th {\n",
       "        text-align: right;\n",
       "    }\n",
       "</style>\n",
       "<table border=\"1\" class=\"dataframe\">\n",
       "  <thead>\n",
       "    <tr style=\"text-align: right;\">\n",
       "      <th></th>\n",
       "      <th>bgg_id</th>\n",
       "      <th>name</th>\n",
       "    </tr>\n",
       "  </thead>\n",
       "  <tbody>\n",
       "    <tr>\n",
       "      <th>0</th>\n",
       "      <td>1</td>\n",
       "      <td>Admin: Test Family</td>\n",
       "    </tr>\n",
       "    <tr>\n",
       "      <th>1</th>\n",
       "      <td>2</td>\n",
       "      <td>Game: Carcassonne</td>\n",
       "    </tr>\n",
       "    <tr>\n",
       "      <th>2</th>\n",
       "      <td>3</td>\n",
       "      <td>Game: Catan</td>\n",
       "    </tr>\n",
       "    <tr>\n",
       "      <th>3</th>\n",
       "      <td>4</td>\n",
       "      <td>Series: The Chicken Family of Zoch</td>\n",
       "    </tr>\n",
       "    <tr>\n",
       "      <th>4</th>\n",
       "      <td>5</td>\n",
       "      <td>Game: Bohnanza</td>\n",
       "    </tr>\n",
       "  </tbody>\n",
       "</table>\n",
       "</div>"
      ],
      "text/plain": [
       "   bgg_id                                name\n",
       "0       1                  Admin: Test Family\n",
       "1       2                   Game: Carcassonne\n",
       "2       3                         Game: Catan\n",
       "3       4  Series: The Chicken Family of Zoch\n",
       "4       5                      Game: Bohnanza"
      ]
     },
     "execution_count": 53,
     "metadata": {},
     "output_type": "execute_result"
    }
   ],
   "source": [
    "csv_path = os.path.join(path, \"bgg_GameFamily.csv\")\n",
    "df_bgg_GameFamily = pd.read_csv(csv_path)\n",
    "df_bgg_GameFamily.head(5)"
   ]
  },
  {
   "cell_type": "code",
   "execution_count": 54,
   "id": "9c1fc3cb",
   "metadata": {},
   "outputs": [
    {
     "data": {
      "text/html": [
       "<div>\n",
       "<style scoped>\n",
       "    .dataframe tbody tr th:only-of-type {\n",
       "        vertical-align: middle;\n",
       "    }\n",
       "\n",
       "    .dataframe tbody tr th {\n",
       "        vertical-align: top;\n",
       "    }\n",
       "\n",
       "    .dataframe thead th {\n",
       "        text-align: right;\n",
       "    }\n",
       "</style>\n",
       "<table border=\"1\" class=\"dataframe\">\n",
       "  <thead>\n",
       "    <tr style=\"text-align: right;\">\n",
       "      <th></th>\n",
       "      <th>bgg_id</th>\n",
       "      <th>name</th>\n",
       "    </tr>\n",
       "  </thead>\n",
       "  <tbody>\n",
       "    <tr>\n",
       "      <th>0</th>\n",
       "      <td>4415</td>\n",
       "      <td>Amiga</td>\n",
       "    </tr>\n",
       "    <tr>\n",
       "      <th>1</th>\n",
       "      <td>4420</td>\n",
       "      <td>Commodore 64</td>\n",
       "    </tr>\n",
       "    <tr>\n",
       "      <th>2</th>\n",
       "      <td>4664</td>\n",
       "      <td>War Game</td>\n",
       "    </tr>\n",
       "    <tr>\n",
       "      <th>3</th>\n",
       "      <td>4665</td>\n",
       "      <td>Children's Game</td>\n",
       "    </tr>\n",
       "    <tr>\n",
       "      <th>4</th>\n",
       "      <td>4666</td>\n",
       "      <td>Abstract Game</td>\n",
       "    </tr>\n",
       "  </tbody>\n",
       "</table>\n",
       "</div>"
      ],
      "text/plain": [
       "   bgg_id             name\n",
       "0    4415            Amiga\n",
       "1    4420     Commodore 64\n",
       "2    4664         War Game\n",
       "3    4665  Children's Game\n",
       "4    4666    Abstract Game"
      ]
     },
     "execution_count": 54,
     "metadata": {},
     "output_type": "execute_result"
    }
   ],
   "source": [
    "csv_path = os.path.join(path, \"bgg_GameType.csv\")\n",
    "df_bgg_GameType = pd.read_csv(csv_path)\n",
    "df_bgg_GameType.head(5)"
   ]
  },
  {
   "cell_type": "code",
   "execution_count": 55,
   "id": "cd791949",
   "metadata": {},
   "outputs": [
    {
     "data": {
      "text/html": [
       "<div>\n",
       "<style scoped>\n",
       "    .dataframe tbody tr th:only-of-type {\n",
       "        vertical-align: middle;\n",
       "    }\n",
       "\n",
       "    .dataframe tbody tr th {\n",
       "        vertical-align: top;\n",
       "    }\n",
       "\n",
       "    .dataframe thead th {\n",
       "        text-align: right;\n",
       "    }\n",
       "</style>\n",
       "<table border=\"1\" class=\"dataframe\">\n",
       "  <thead>\n",
       "    <tr style=\"text-align: right;\">\n",
       "      <th></th>\n",
       "      <th>bgg_id</th>\n",
       "      <th>name</th>\n",
       "    </tr>\n",
       "  </thead>\n",
       "  <tbody>\n",
       "    <tr>\n",
       "      <th>0</th>\n",
       "      <td>2001</td>\n",
       "      <td>Action Points</td>\n",
       "    </tr>\n",
       "    <tr>\n",
       "      <th>1</th>\n",
       "      <td>2002</td>\n",
       "      <td>Tile Placement</td>\n",
       "    </tr>\n",
       "    <tr>\n",
       "      <th>2</th>\n",
       "      <td>2003</td>\n",
       "      <td>Rock-Paper-Scissors</td>\n",
       "    </tr>\n",
       "    <tr>\n",
       "      <th>3</th>\n",
       "      <td>2004</td>\n",
       "      <td>Set Collection</td>\n",
       "    </tr>\n",
       "    <tr>\n",
       "      <th>4</th>\n",
       "      <td>2005</td>\n",
       "      <td>Stock Holding</td>\n",
       "    </tr>\n",
       "  </tbody>\n",
       "</table>\n",
       "</div>"
      ],
      "text/plain": [
       "   bgg_id                 name\n",
       "0    2001        Action Points\n",
       "1    2002       Tile Placement\n",
       "2    2003  Rock-Paper-Scissors\n",
       "3    2004       Set Collection\n",
       "4    2005        Stock Holding"
      ]
     },
     "execution_count": 55,
     "metadata": {},
     "output_type": "execute_result"
    }
   ],
   "source": [
    "csv_path = os.path.join(path, \"bgg_Mechanic.csv\")\n",
    "df_bgg_Mechanic = pd.read_csv(csv_path)\n",
    "df_bgg_Mechanic.head(5)"
   ]
  },
  {
   "cell_type": "code",
   "execution_count": 56,
   "id": "1f6af331",
   "metadata": {},
   "outputs": [
    {
     "data": {
      "text/html": [
       "<div>\n",
       "<style scoped>\n",
       "    .dataframe tbody tr th:only-of-type {\n",
       "        vertical-align: middle;\n",
       "    }\n",
       "\n",
       "    .dataframe tbody tr th {\n",
       "        vertical-align: top;\n",
       "    }\n",
       "\n",
       "    .dataframe thead th {\n",
       "        text-align: right;\n",
       "    }\n",
       "</style>\n",
       "<table border=\"1\" class=\"dataframe\">\n",
       "  <thead>\n",
       "    <tr style=\"text-align: right;\">\n",
       "      <th></th>\n",
       "      <th>bgg_id</th>\n",
       "      <th>name</th>\n",
       "    </tr>\n",
       "  </thead>\n",
       "  <tbody>\n",
       "    <tr>\n",
       "      <th>0</th>\n",
       "      <td>1</td>\n",
       "      <td>Karl-Heinz Schmiel</td>\n",
       "    </tr>\n",
       "    <tr>\n",
       "      <th>1</th>\n",
       "      <td>2</td>\n",
       "      <td>Reiner Knizia</td>\n",
       "    </tr>\n",
       "    <tr>\n",
       "      <th>2</th>\n",
       "      <td>3</td>\n",
       "      <td>(Uncredited)</td>\n",
       "    </tr>\n",
       "    <tr>\n",
       "      <th>3</th>\n",
       "      <td>4</td>\n",
       "      <td>Sid Sackson</td>\n",
       "    </tr>\n",
       "    <tr>\n",
       "      <th>4</th>\n",
       "      <td>5</td>\n",
       "      <td>Jean du Poël</td>\n",
       "    </tr>\n",
       "  </tbody>\n",
       "</table>\n",
       "</div>"
      ],
      "text/plain": [
       "   bgg_id                name\n",
       "0       1  Karl-Heinz Schmiel\n",
       "1       2       Reiner Knizia\n",
       "2       3        (Uncredited)\n",
       "3       4         Sid Sackson\n",
       "4       5        Jean du Poël"
      ]
     },
     "execution_count": 56,
     "metadata": {},
     "output_type": "execute_result"
    }
   ],
   "source": [
    "csv_path = os.path.join(path, \"bgg_Person.csv\")\n",
    "df_bgg_Person = pd.read_csv(csv_path)\n",
    "df_bgg_Person.head(5)"
   ]
  },
  {
   "cell_type": "code",
   "execution_count": 57,
   "id": "9082cdeb",
   "metadata": {},
   "outputs": [
    {
     "data": {
      "text/html": [
       "<div>\n",
       "<style scoped>\n",
       "    .dataframe tbody tr th:only-of-type {\n",
       "        vertical-align: middle;\n",
       "    }\n",
       "\n",
       "    .dataframe tbody tr th {\n",
       "        vertical-align: top;\n",
       "    }\n",
       "\n",
       "    .dataframe thead th {\n",
       "        text-align: right;\n",
       "    }\n",
       "</style>\n",
       "<table border=\"1\" class=\"dataframe\">\n",
       "  <thead>\n",
       "    <tr style=\"text-align: right;\">\n",
       "      <th></th>\n",
       "      <th>bgg_id</th>\n",
       "      <th>name</th>\n",
       "    </tr>\n",
       "  </thead>\n",
       "  <tbody>\n",
       "    <tr>\n",
       "      <th>0</th>\n",
       "      <td>2</td>\n",
       "      <td>Moskito Spiele</td>\n",
       "    </tr>\n",
       "    <tr>\n",
       "      <th>1</th>\n",
       "      <td>3</td>\n",
       "      <td>Rio Grande Games</td>\n",
       "    </tr>\n",
       "    <tr>\n",
       "      <th>2</th>\n",
       "      <td>4</td>\n",
       "      <td>(Self-Published)</td>\n",
       "    </tr>\n",
       "    <tr>\n",
       "      <th>3</th>\n",
       "      <td>5</td>\n",
       "      <td>The Avalon Hill Game Co</td>\n",
       "    </tr>\n",
       "    <tr>\n",
       "      <th>4</th>\n",
       "      <td>6</td>\n",
       "      <td>Historien Spiele Galerie (Historien Spielegale...</td>\n",
       "    </tr>\n",
       "  </tbody>\n",
       "</table>\n",
       "</div>"
      ],
      "text/plain": [
       "   bgg_id                                               name\n",
       "0       2                                     Moskito Spiele\n",
       "1       3                                   Rio Grande Games\n",
       "2       4                                   (Self-Published)\n",
       "3       5                            The Avalon Hill Game Co\n",
       "4       6  Historien Spiele Galerie (Historien Spielegale..."
      ]
     },
     "execution_count": 57,
     "metadata": {},
     "output_type": "execute_result"
    }
   ],
   "source": [
    "csv_path = os.path.join(path, \"bgg_Publisher.csv\")\n",
    "df_bgg_Publisher = pd.read_csv(csv_path)\n",
    "df_bgg_Publisher.head(5)"
   ]
  },
  {
   "cell_type": "markdown",
   "id": "10a59b9e",
   "metadata": {},
   "source": [
    "### BGG Data Columns Description"
   ]
  },
  {
   "cell_type": "markdown",
   "id": "df9890ba",
   "metadata": {},
   "source": [
    "| Column | Description |\n",
    "|--------|-------------|\n",
    "| `bgg_id` | Unique game identifier in BGG database. |\n",
    "| `name` | Game name (primary). |\n",
    "| `year` | Game publication year. |\n",
    "| `game_type` | Game type (board game, expansion, etc.). From main element. |\n",
    "| `designer` | Game designer(s). |\n",
    "| `artist` | Artist(s) responsible for artwork. |\n",
    "| `publisher` | Game publisher. |\n",
    "| `min_players` | Minimum number of players. |\n",
    "| `max_players` | Maximum number of players. |\n",
    "| `min_players_rec` | Minimum recommended number of players. From user polls. |\n",
    "| `max_players_rec` | Maximum recommended number of players. From user polls. |\n",
    "| `min_players_best` | Minimum number of players for best experience. From polls - \"Best\" votes. |\n",
    "| `max_players_best` | Maximum number of players for best experience. From polls - \"Best\" votes. |\n",
    "| `min_age` | Official minimum player age. |\n",
    "| `min_age_rec` | Community recommended minimum age. From polls. |\n",
    "| `min_time` | Minimum game time (minutes). |\n",
    "| `max_time` | Maximum game time (minutes). |\n",
    "| `category` | Game category. |\n",
    "| `mechanic` | Game mechanics. |\n",
    "| `cooperative` | Whether the game is cooperative. Probably boolean flag based on mechanics. |\n",
    "| `compilation` | Whether the game is a compilation of other games. Based on tags or special designations. |\n",
    "| `compilation_of` | Which games it is a compilation of. Details from game relationships. |\n",
    "| `family` | Game family it belongs to. |\n",
    "| `implementation` | Game implementations (digital, other versions). |\n",
    "| `integration` | Integrations with other games. Relationships between games in BGG system. |\n",
    "| `rank` | Position in BGG ranking. Data from separate API endpoint (not visible in this XML). |\n",
    "| `num_votes` | Number of votes/ratings. From statistical data (not in this XML). |\n",
    "| `avg_rating` | Average rating. From BGG statistical data. |\n",
    "| `stddev_rating` | Standard deviation of ratings. From BGG statistical data. |\n",
    "| `bayes_rating` | Bayesian rating (considers number of votes). Used for BGG rankings. |\n",
    "| `complexity` | Game complexity level (1-5). From separate user polls. |\n",
    "| `language_dependency` | Language dependency (1-5).<br>**1**: No text in the game<br>**2**: Little text - easy to memorize<br>**3**: Moderate text - cheat sheet needed<br>**4**: Lots of text - translation required<br>**5**: Unplayable in other language |\n",
    "| `image` | Game image URL. |\n",
    "| `description` | Game description. |"
   ]
  },
  {
   "cell_type": "code",
   "execution_count": 58,
   "id": "a8a3f4c4",
   "metadata": {},
   "outputs": [],
   "source": [
    "# Create dictionaries with string keys (to match the JSON parsing approach)\n",
    "def create_string_key_dict(df, key_col, value_col):\n",
    "    return {str(k).strip(): str(v).strip() for k, v in df.set_index(key_col)[value_col].to_dict().items()}\n",
    "\n",
    "game_type_dict = create_string_key_dict(df_bgg_GameType, 'bgg_id', 'name')\n",
    "designer_dict = create_string_key_dict(df_bgg_Person, 'bgg_id', 'name')\n",
    "artist_dict = create_string_key_dict(df_bgg_Person, 'bgg_id', 'name')  # Note: should this be df_bgg_Artist?\n",
    "publisher_dict = create_string_key_dict(df_bgg_Publisher, 'bgg_id', 'name')\n",
    "category_dict = create_string_key_dict(df_bgg_Category, 'bgg_id', 'name')\n",
    "mechanic_dict = create_string_key_dict(df_bgg_Mechanic, 'bgg_id', 'name')"
   ]
  },
  {
   "cell_type": "code",
   "execution_count": 59,
   "id": "14f0ae92",
   "metadata": {},
   "outputs": [],
   "source": [
    "ref_dicts = {'game_types': game_type_dict,\n",
    "            'designers': designer_dict,\n",
    "            'artists': artist_dict,\n",
    "            'publishers': publisher_dict,\n",
    "            'categories': category_dict,\n",
    "            'mechanics': mechanic_dict}"
   ]
  },
  {
   "cell_type": "code",
   "execution_count": 60,
   "id": "6cab0bc8",
   "metadata": {},
   "outputs": [
    {
     "name": "stdout",
     "output_type": "stream",
     "text": [
      "Game Types\n",
      "------------\n",
      "Thematic\n",
      "Strategy Game\n"
     ]
    }
   ],
   "source": [
    "# Check game types for this board game\n",
    "game_types = df.loc[df['name']=='Gloomhaven', 'game_type'].values\n",
    "game_types = game_types[0].split(',')\n",
    "print('Game Types\\n------------')\n",
    "for type_id in game_types:\n",
    "    print(game_type_dict[type_id])\n",
    "\n",
    "# the output should be:\n",
    "# Game Types\n",
    "# ------------\n",
    "# thematic\n",
    "# strategygames"
   ]
  },
  {
   "cell_type": "code",
   "execution_count": 61,
   "id": "7d9ac9f3",
   "metadata": {},
   "outputs": [
    {
     "name": "stdout",
     "output_type": "stream",
     "text": [
      "Categories\n",
      "------------\n",
      "Adventure\n",
      "Exploration\n",
      "Fantasy\n",
      "Fighting\n",
      "Miniatures\n"
     ]
    }
   ],
   "source": [
    "# Check categories for this board game\n",
    "categories = df.loc[df['name']=='Gloomhaven', 'category'].values\n",
    "categories = categories[0].split(',')\n",
    "print('Categories\\n------------')\n",
    "for c_id in categories:\n",
    "    print(category_dict[c_id])"
   ]
  },
  {
   "cell_type": "code",
   "execution_count": 62,
   "id": "2bdaaf25",
   "metadata": {},
   "outputs": [
    {
     "name": "stdout",
     "output_type": "stream",
     "text": [
      "Mechanics\n",
      "------------\n",
      "Action Queue\n",
      "Action Retrieval\n",
      "Campaign / Battle Card Driven\n",
      "Card Play Conflict Resolution\n",
      "Communication Limits\n",
      "Cooperative Game\n",
      "Critical Hits and Failures\n",
      "Deck Construction\n",
      "Grid Movement\n",
      "Hand Management\n",
      "Hexagon Grid\n",
      "Legacy Game\n",
      "Line of Sight\n",
      "Modular Board\n",
      "Once-Per-Game Abilities\n",
      "Role Playing\n",
      "Scenario / Mission / Campaign Game\n",
      "Simultaneous Action Selection\n",
      "Solo / Solitaire Game\n",
      "Tags\n",
      "Variable Player Powers\n"
     ]
    }
   ],
   "source": [
    "# Check mechanics for this board game\n",
    "mechanics = df.loc[df['name']=='Gloomhaven', 'mechanic'].values\n",
    "mechanics = mechanics[0].split(',')\n",
    "print('Mechanics\\n------------')\n",
    "for c_id in mechanics:\n",
    "    print(mechanic_dict[c_id])"
   ]
  },
  {
   "cell_type": "code",
   "execution_count": 63,
   "id": "6fb4ecff",
   "metadata": {},
   "outputs": [],
   "source": [
    "# Remove the columns for other website ids\n",
    "df.drop(columns=['bga_id', 'dbpedia_id', 'luding_id', 'spielen_id', 'wikidata_id', 'wikipedia_id'], inplace=True)"
   ]
  },
  {
   "cell_type": "code",
   "execution_count": 64,
   "id": "f78a65ea",
   "metadata": {},
   "outputs": [],
   "source": [
    "df_img_desc = pd.read_csv(\"boardgame_images_merged.csv\")"
   ]
  },
  {
   "cell_type": "code",
   "execution_count": 65,
   "id": "1df6e786",
   "metadata": {},
   "outputs": [
    {
     "data": {
      "text/html": [
       "<div>\n",
       "<style scoped>\n",
       "    .dataframe tbody tr th:only-of-type {\n",
       "        vertical-align: middle;\n",
       "    }\n",
       "\n",
       "    .dataframe tbody tr th {\n",
       "        vertical-align: top;\n",
       "    }\n",
       "\n",
       "    .dataframe thead th {\n",
       "        text-align: right;\n",
       "    }\n",
       "</style>\n",
       "<table border=\"1\" class=\"dataframe\">\n",
       "  <thead>\n",
       "    <tr style=\"text-align: right;\">\n",
       "      <th></th>\n",
       "      <th>bgg_id</th>\n",
       "      <th>image</th>\n",
       "      <th>description</th>\n",
       "    </tr>\n",
       "  </thead>\n",
       "  <tbody>\n",
       "    <tr>\n",
       "      <th>0</th>\n",
       "      <td>1</td>\n",
       "      <td>https://cf.geekdo-images.com/rpwCZAjYLD940NWwP...</td>\n",
       "      <td>Die Macher is a game about seven sequential po...</td>\n",
       "    </tr>\n",
       "    <tr>\n",
       "      <th>1</th>\n",
       "      <td>2</td>\n",
       "      <td>https://cf.geekdo-images.com/oQYhaJx5Lg3KcGis2...</td>\n",
       "      <td>Dragonmaster is a trick-taking card game based...</td>\n",
       "    </tr>\n",
       "    <tr>\n",
       "      <th>2</th>\n",
       "      <td>3</td>\n",
       "      <td>https://cf.geekdo-images.com/o9-sNXmFS_TLAb7Zl...</td>\n",
       "      <td>Samurai is set in medieval Japan. Players comp...</td>\n",
       "    </tr>\n",
       "    <tr>\n",
       "      <th>3</th>\n",
       "      <td>4</td>\n",
       "      <td>https://cf.geekdo-images.com/nYiYhUlatT2DpyXaJ...</td>\n",
       "      <td>When you see the triangular box and the luxuri...</td>\n",
       "    </tr>\n",
       "    <tr>\n",
       "      <th>4</th>\n",
       "      <td>5</td>\n",
       "      <td>https://cf.geekdo-images.com/gIQlWhlaqjPiunZjj...</td>\n",
       "      <td>In Acquire, each player strategically invests ...</td>\n",
       "    </tr>\n",
       "    <tr>\n",
       "      <th>...</th>\n",
       "      <td>...</td>\n",
       "      <td>...</td>\n",
       "      <td>...</td>\n",
       "    </tr>\n",
       "    <tr>\n",
       "      <th>113899</th>\n",
       "      <td>332492</td>\n",
       "      <td>NaN</td>\n",
       "      <td>NaN</td>\n",
       "    </tr>\n",
       "    <tr>\n",
       "      <th>113900</th>\n",
       "      <td>332493</td>\n",
       "      <td>NaN</td>\n",
       "      <td>Manhattan is a unification game that always en...</td>\n",
       "    </tr>\n",
       "    <tr>\n",
       "      <th>113901</th>\n",
       "      <td>332495</td>\n",
       "      <td>NaN</td>\n",
       "      <td>NaN</td>\n",
       "    </tr>\n",
       "    <tr>\n",
       "      <th>113902</th>\n",
       "      <td>332497</td>\n",
       "      <td>NaN</td>\n",
       "      <td>In this game, at least four players try to get...</td>\n",
       "    </tr>\n",
       "    <tr>\n",
       "      <th>113903</th>\n",
       "      <td>332499</td>\n",
       "      <td>NaN</td>\n",
       "      <td>NaN</td>\n",
       "    </tr>\n",
       "  </tbody>\n",
       "</table>\n",
       "<p>113904 rows × 3 columns</p>\n",
       "</div>"
      ],
      "text/plain": [
       "        bgg_id                                              image  \\\n",
       "0            1  https://cf.geekdo-images.com/rpwCZAjYLD940NWwP...   \n",
       "1            2  https://cf.geekdo-images.com/oQYhaJx5Lg3KcGis2...   \n",
       "2            3  https://cf.geekdo-images.com/o9-sNXmFS_TLAb7Zl...   \n",
       "3            4  https://cf.geekdo-images.com/nYiYhUlatT2DpyXaJ...   \n",
       "4            5  https://cf.geekdo-images.com/gIQlWhlaqjPiunZjj...   \n",
       "...        ...                                                ...   \n",
       "113899  332492                                                NaN   \n",
       "113900  332493                                                NaN   \n",
       "113901  332495                                                NaN   \n",
       "113902  332497                                                NaN   \n",
       "113903  332499                                                NaN   \n",
       "\n",
       "                                              description  \n",
       "0       Die Macher is a game about seven sequential po...  \n",
       "1       Dragonmaster is a trick-taking card game based...  \n",
       "2       Samurai is set in medieval Japan. Players comp...  \n",
       "3       When you see the triangular box and the luxuri...  \n",
       "4       In Acquire, each player strategically invests ...  \n",
       "...                                                   ...  \n",
       "113899                                                NaN  \n",
       "113900  Manhattan is a unification game that always en...  \n",
       "113901                                                NaN  \n",
       "113902  In this game, at least four players try to get...  \n",
       "113903                                                NaN  \n",
       "\n",
       "[113904 rows x 3 columns]"
      ]
     },
     "execution_count": 65,
     "metadata": {},
     "output_type": "execute_result"
    }
   ],
   "source": [
    "df_img_desc"
   ]
  }
 ],
 "metadata": {
  "kernelspec": {
   "display_name": ".venv",
   "language": "python",
   "name": "python3"
  },
  "language_info": {
   "codemirror_mode": {
    "name": "ipython",
    "version": 3
   },
   "file_extension": ".py",
   "mimetype": "text/x-python",
   "name": "python",
   "nbconvert_exporter": "python",
   "pygments_lexer": "ipython3",
   "version": "3.12.0"
  }
 },
 "nbformat": 4,
 "nbformat_minor": 5
}
